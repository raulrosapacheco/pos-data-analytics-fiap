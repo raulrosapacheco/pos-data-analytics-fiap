{
 "cells": [
  {
   "cell_type": "markdown",
   "id": "7880a54f",
   "metadata": {},
   "source": [
    "# Analisando Dados de Produção Hospitalar "
   ]
  },
  {
   "cell_type": "code",
   "execution_count": 1,
   "id": "462aca82",
   "metadata": {},
   "outputs": [],
   "source": [
    "import pandas as pd"
   ]
  },
  {
   "cell_type": "code",
   "execution_count": 2,
   "id": "8f353450",
   "metadata": {},
   "outputs": [],
   "source": [
    "dados = pd.read_csv(\"D:/pos-data-analytics-fiap/anotacoes/fase-1/analise-exploratoria-dados/A150850189_28_143_208.csv\", \n",
    "                    encoding=\"ISO-8859-1\", skiprows=3, sep=\";\", skipfooter=12, thousands=\".\", decimal=\",\", engine='python')"
   ]
  },
  {
   "cell_type": "code",
   "execution_count": 3,
   "id": "c45779c6",
   "metadata": {},
   "outputs": [
    {
     "data": {
      "text/html": [
       "<div>\n",
       "<style scoped>\n",
       "    .dataframe tbody tr th:only-of-type {\n",
       "        vertical-align: middle;\n",
       "    }\n",
       "\n",
       "    .dataframe tbody tr th {\n",
       "        vertical-align: top;\n",
       "    }\n",
       "\n",
       "    .dataframe thead th {\n",
       "        text-align: right;\n",
       "    }\n",
       "</style>\n",
       "<table border=\"1\" class=\"dataframe\">\n",
       "  <thead>\n",
       "    <tr style=\"text-align: right;\">\n",
       "      <th></th>\n",
       "      <th>Unidade da Federação</th>\n",
       "      <th>1992/Mar</th>\n",
       "      <th>1992/Abr</th>\n",
       "      <th>1993/Mai</th>\n",
       "      <th>1993/Dez</th>\n",
       "      <th>1994/Jan</th>\n",
       "      <th>1994/Fev</th>\n",
       "      <th>1994/Mai</th>\n",
       "      <th>1994/Ago</th>\n",
       "      <th>1994/Nov</th>\n",
       "      <th>...</th>\n",
       "      <th>2021/Jan</th>\n",
       "      <th>2021/Fev</th>\n",
       "      <th>2021/Mar</th>\n",
       "      <th>2021/Abr</th>\n",
       "      <th>2021/Mai</th>\n",
       "      <th>2021/Jun</th>\n",
       "      <th>2021/Jul</th>\n",
       "      <th>2021/Ago</th>\n",
       "      <th>2021/Set</th>\n",
       "      <th>Total</th>\n",
       "    </tr>\n",
       "  </thead>\n",
       "  <tbody>\n",
       "    <tr>\n",
       "      <th>0</th>\n",
       "      <td>11 Rondônia</td>\n",
       "      <td>-</td>\n",
       "      <td>-</td>\n",
       "      <td>-</td>\n",
       "      <td>-</td>\n",
       "      <td>-</td>\n",
       "      <td>-</td>\n",
       "      <td>-</td>\n",
       "      <td>-</td>\n",
       "      <td>-</td>\n",
       "      <td>...</td>\n",
       "      <td>10045624.39</td>\n",
       "      <td>10677245.18</td>\n",
       "      <td>18147121.02</td>\n",
       "      <td>17753851.45</td>\n",
       "      <td>17659855.79</td>\n",
       "      <td>14435903.47</td>\n",
       "      <td>11834435.10</td>\n",
       "      <td>7371334.84</td>\n",
       "      <td>1682801.60</td>\n",
       "      <td>1.088060e+09</td>\n",
       "    </tr>\n",
       "    <tr>\n",
       "      <th>1</th>\n",
       "      <td>12 Acre</td>\n",
       "      <td>-</td>\n",
       "      <td>-</td>\n",
       "      <td>-</td>\n",
       "      <td>-</td>\n",
       "      <td>-</td>\n",
       "      <td>-</td>\n",
       "      <td>-</td>\n",
       "      <td>-</td>\n",
       "      <td>-</td>\n",
       "      <td>...</td>\n",
       "      <td>4175526.06</td>\n",
       "      <td>5282655.42</td>\n",
       "      <td>5699597.78</td>\n",
       "      <td>5002272.59</td>\n",
       "      <td>4326882.24</td>\n",
       "      <td>3458187.11</td>\n",
       "      <td>2302711.01</td>\n",
       "      <td>1196754.85</td>\n",
       "      <td>-</td>\n",
       "      <td>4.752903e+08</td>\n",
       "    </tr>\n",
       "    <tr>\n",
       "      <th>2</th>\n",
       "      <td>13 Amazonas</td>\n",
       "      <td>-</td>\n",
       "      <td>-</td>\n",
       "      <td>-</td>\n",
       "      <td>-</td>\n",
       "      <td>-</td>\n",
       "      <td>-</td>\n",
       "      <td>-</td>\n",
       "      <td>-</td>\n",
       "      <td>-</td>\n",
       "      <td>...</td>\n",
       "      <td>27406458.57</td>\n",
       "      <td>22341042.63</td>\n",
       "      <td>27923786.94</td>\n",
       "      <td>24515920.09</td>\n",
       "      <td>23973537.71</td>\n",
       "      <td>22175398.40</td>\n",
       "      <td>21614943.55</td>\n",
       "      <td>13806958.66</td>\n",
       "      <td>5292323.36</td>\n",
       "      <td>2.061943e+09</td>\n",
       "    </tr>\n",
       "    <tr>\n",
       "      <th>3</th>\n",
       "      <td>14 Roraima</td>\n",
       "      <td>-</td>\n",
       "      <td>-</td>\n",
       "      <td>-</td>\n",
       "      <td>-</td>\n",
       "      <td>-</td>\n",
       "      <td>-</td>\n",
       "      <td>-</td>\n",
       "      <td>-</td>\n",
       "      <td>-</td>\n",
       "      <td>...</td>\n",
       "      <td>3557821.99</td>\n",
       "      <td>4172285.82</td>\n",
       "      <td>5427226.70</td>\n",
       "      <td>4192540.54</td>\n",
       "      <td>3681417.80</td>\n",
       "      <td>3475205.55</td>\n",
       "      <td>3320807.96</td>\n",
       "      <td>2907871.07</td>\n",
       "      <td>1496814.75</td>\n",
       "      <td>3.525463e+08</td>\n",
       "    </tr>\n",
       "    <tr>\n",
       "      <th>4</th>\n",
       "      <td>15 Pará</td>\n",
       "      <td>-</td>\n",
       "      <td>-</td>\n",
       "      <td>-</td>\n",
       "      <td>-</td>\n",
       "      <td>-</td>\n",
       "      <td>-</td>\n",
       "      <td>-</td>\n",
       "      <td>-</td>\n",
       "      <td>-</td>\n",
       "      <td>...</td>\n",
       "      <td>39042349.46</td>\n",
       "      <td>37113440.70</td>\n",
       "      <td>49625416.13</td>\n",
       "      <td>52558327.29</td>\n",
       "      <td>50907226.77</td>\n",
       "      <td>43876590.47</td>\n",
       "      <td>33718084.12</td>\n",
       "      <td>20837865.89</td>\n",
       "      <td>4620263.03</td>\n",
       "      <td>4.968812e+09</td>\n",
       "    </tr>\n",
       "  </tbody>\n",
       "</table>\n",
       "<p>5 rows × 293 columns</p>\n",
       "</div>"
      ],
      "text/plain": [
       "  Unidade da Federação 1992/Mar 1992/Abr 1993/Mai 1993/Dez 1994/Jan 1994/Fev  \\\n",
       "0          11 Rondônia        -        -        -        -        -        -   \n",
       "1              12 Acre        -        -        -        -        -        -   \n",
       "2          13 Amazonas        -        -        -        -        -        -   \n",
       "3           14 Roraima        -        -        -        -        -        -   \n",
       "4              15 Pará        -        -        -        -        -        -   \n",
       "\n",
       "  1994/Mai 1994/Ago 1994/Nov  ...     2021/Jan     2021/Fev     2021/Mar  \\\n",
       "0        -        -        -  ...  10045624.39  10677245.18  18147121.02   \n",
       "1        -        -        -  ...   4175526.06   5282655.42   5699597.78   \n",
       "2        -        -        -  ...  27406458.57  22341042.63  27923786.94   \n",
       "3        -        -        -  ...   3557821.99   4172285.82   5427226.70   \n",
       "4        -        -        -  ...  39042349.46  37113440.70  49625416.13   \n",
       "\n",
       "      2021/Abr     2021/Mai     2021/Jun     2021/Jul     2021/Ago  \\\n",
       "0  17753851.45  17659855.79  14435903.47  11834435.10   7371334.84   \n",
       "1   5002272.59   4326882.24   3458187.11   2302711.01   1196754.85   \n",
       "2  24515920.09  23973537.71  22175398.40  21614943.55  13806958.66   \n",
       "3   4192540.54   3681417.80   3475205.55   3320807.96   2907871.07   \n",
       "4  52558327.29  50907226.77  43876590.47  33718084.12  20837865.89   \n",
       "\n",
       "     2021/Set         Total  \n",
       "0  1682801.60  1.088060e+09  \n",
       "1           -  4.752903e+08  \n",
       "2  5292323.36  2.061943e+09  \n",
       "3  1496814.75  3.525463e+08  \n",
       "4  4620263.03  4.968812e+09  \n",
       "\n",
       "[5 rows x 293 columns]"
      ]
     },
     "execution_count": 3,
     "metadata": {},
     "output_type": "execute_result"
    }
   ],
   "source": [
    "dados.head()"
   ]
  },
  {
   "cell_type": "code",
   "execution_count": 4,
   "id": "97ce6f8e",
   "metadata": {},
   "outputs": [
    {
     "data": {
      "text/html": [
       "<div>\n",
       "<style scoped>\n",
       "    .dataframe tbody tr th:only-of-type {\n",
       "        vertical-align: middle;\n",
       "    }\n",
       "\n",
       "    .dataframe tbody tr th {\n",
       "        vertical-align: top;\n",
       "    }\n",
       "\n",
       "    .dataframe thead th {\n",
       "        text-align: right;\n",
       "    }\n",
       "</style>\n",
       "<table border=\"1\" class=\"dataframe\">\n",
       "  <thead>\n",
       "    <tr style=\"text-align: right;\">\n",
       "      <th></th>\n",
       "      <th>Unidade da Federação</th>\n",
       "      <th>1992/Mar</th>\n",
       "      <th>1992/Abr</th>\n",
       "      <th>1993/Mai</th>\n",
       "      <th>1993/Dez</th>\n",
       "      <th>1994/Jan</th>\n",
       "      <th>1994/Fev</th>\n",
       "      <th>1994/Mai</th>\n",
       "      <th>1994/Ago</th>\n",
       "      <th>1994/Nov</th>\n",
       "      <th>...</th>\n",
       "      <th>2021/Jan</th>\n",
       "      <th>2021/Fev</th>\n",
       "      <th>2021/Mar</th>\n",
       "      <th>2021/Abr</th>\n",
       "      <th>2021/Mai</th>\n",
       "      <th>2021/Jun</th>\n",
       "      <th>2021/Jul</th>\n",
       "      <th>2021/Ago</th>\n",
       "      <th>2021/Set</th>\n",
       "      <th>Total</th>\n",
       "    </tr>\n",
       "  </thead>\n",
       "  <tbody>\n",
       "    <tr>\n",
       "      <th>22</th>\n",
       "      <td>43 Rio Grande do Sul</td>\n",
       "      <td>-</td>\n",
       "      <td>-</td>\n",
       "      <td>-</td>\n",
       "      <td>-</td>\n",
       "      <td>-</td>\n",
       "      <td>-</td>\n",
       "      <td>-</td>\n",
       "      <td>-</td>\n",
       "      <td>-</td>\n",
       "      <td>...</td>\n",
       "      <td>1.159919e+08</td>\n",
       "      <td>1.267303e+08</td>\n",
       "      <td>1.696877e+08</td>\n",
       "      <td>1.453025e+08</td>\n",
       "      <td>1.550843e+08</td>\n",
       "      <td>1.428123e+08</td>\n",
       "      <td>1.128054e+08</td>\n",
       "      <td>74954589.62</td>\n",
       "      <td>25200345.68</td>\n",
       "      <td>1.361334e+10</td>\n",
       "    </tr>\n",
       "    <tr>\n",
       "      <th>23</th>\n",
       "      <td>50 Mato Grosso do Sul</td>\n",
       "      <td>-</td>\n",
       "      <td>-</td>\n",
       "      <td>-</td>\n",
       "      <td>-</td>\n",
       "      <td>-</td>\n",
       "      <td>-</td>\n",
       "      <td>-</td>\n",
       "      <td>-</td>\n",
       "      <td>-</td>\n",
       "      <td>...</td>\n",
       "      <td>2.472700e+07</td>\n",
       "      <td>2.560076e+07</td>\n",
       "      <td>3.250618e+07</td>\n",
       "      <td>3.310106e+07</td>\n",
       "      <td>3.688563e+07</td>\n",
       "      <td>3.159520e+07</td>\n",
       "      <td>2.071197e+07</td>\n",
       "      <td>11302985.98</td>\n",
       "      <td>2445267.12</td>\n",
       "      <td>2.516383e+09</td>\n",
       "    </tr>\n",
       "    <tr>\n",
       "      <th>24</th>\n",
       "      <td>51 Mato Grosso</td>\n",
       "      <td>-</td>\n",
       "      <td>-</td>\n",
       "      <td>-</td>\n",
       "      <td>-</td>\n",
       "      <td>-</td>\n",
       "      <td>-</td>\n",
       "      <td>-</td>\n",
       "      <td>-</td>\n",
       "      <td>-</td>\n",
       "      <td>...</td>\n",
       "      <td>1.888971e+07</td>\n",
       "      <td>2.154459e+07</td>\n",
       "      <td>3.579084e+07</td>\n",
       "      <td>3.753402e+07</td>\n",
       "      <td>3.785947e+07</td>\n",
       "      <td>3.493713e+07</td>\n",
       "      <td>2.936420e+07</td>\n",
       "      <td>19849249.43</td>\n",
       "      <td>7325067.61</td>\n",
       "      <td>2.386584e+09</td>\n",
       "    </tr>\n",
       "    <tr>\n",
       "      <th>25</th>\n",
       "      <td>52 Goiás</td>\n",
       "      <td>-</td>\n",
       "      <td>-</td>\n",
       "      <td>-</td>\n",
       "      <td>-</td>\n",
       "      <td>-</td>\n",
       "      <td>-</td>\n",
       "      <td>-</td>\n",
       "      <td>-</td>\n",
       "      <td>-</td>\n",
       "      <td>...</td>\n",
       "      <td>4.263870e+07</td>\n",
       "      <td>4.571547e+07</td>\n",
       "      <td>7.446406e+07</td>\n",
       "      <td>6.863041e+07</td>\n",
       "      <td>6.946733e+07</td>\n",
       "      <td>6.716235e+07</td>\n",
       "      <td>5.789129e+07</td>\n",
       "      <td>44939821.34</td>\n",
       "      <td>18860370.17</td>\n",
       "      <td>5.380179e+09</td>\n",
       "    </tr>\n",
       "    <tr>\n",
       "      <th>26</th>\n",
       "      <td>53 Distrito Federal</td>\n",
       "      <td>-</td>\n",
       "      <td>-</td>\n",
       "      <td>-</td>\n",
       "      <td>-</td>\n",
       "      <td>-</td>\n",
       "      <td>-</td>\n",
       "      <td>-</td>\n",
       "      <td>-</td>\n",
       "      <td>-</td>\n",
       "      <td>...</td>\n",
       "      <td>2.448472e+07</td>\n",
       "      <td>2.415606e+07</td>\n",
       "      <td>3.639103e+07</td>\n",
       "      <td>3.564176e+07</td>\n",
       "      <td>3.243456e+07</td>\n",
       "      <td>2.719646e+07</td>\n",
       "      <td>2.626552e+07</td>\n",
       "      <td>22156437.60</td>\n",
       "      <td>13173812.37</td>\n",
       "      <td>2.778457e+09</td>\n",
       "    </tr>\n",
       "  </tbody>\n",
       "</table>\n",
       "<p>5 rows × 293 columns</p>\n",
       "</div>"
      ],
      "text/plain": [
       "     Unidade da Federação 1992/Mar 1992/Abr 1993/Mai 1993/Dez 1994/Jan  \\\n",
       "22   43 Rio Grande do Sul        -        -        -        -        -   \n",
       "23  50 Mato Grosso do Sul        -        -        -        -        -   \n",
       "24         51 Mato Grosso        -        -        -        -        -   \n",
       "25               52 Goiás        -        -        -        -        -   \n",
       "26    53 Distrito Federal        -        -        -        -        -   \n",
       "\n",
       "   1994/Fev 1994/Mai 1994/Ago 1994/Nov  ...      2021/Jan      2021/Fev  \\\n",
       "22        -        -        -        -  ...  1.159919e+08  1.267303e+08   \n",
       "23        -        -        -        -  ...  2.472700e+07  2.560076e+07   \n",
       "24        -        -        -        -  ...  1.888971e+07  2.154459e+07   \n",
       "25        -        -        -        -  ...  4.263870e+07  4.571547e+07   \n",
       "26        -        -        -        -  ...  2.448472e+07  2.415606e+07   \n",
       "\n",
       "        2021/Mar      2021/Abr      2021/Mai      2021/Jun      2021/Jul  \\\n",
       "22  1.696877e+08  1.453025e+08  1.550843e+08  1.428123e+08  1.128054e+08   \n",
       "23  3.250618e+07  3.310106e+07  3.688563e+07  3.159520e+07  2.071197e+07   \n",
       "24  3.579084e+07  3.753402e+07  3.785947e+07  3.493713e+07  2.936420e+07   \n",
       "25  7.446406e+07  6.863041e+07  6.946733e+07  6.716235e+07  5.789129e+07   \n",
       "26  3.639103e+07  3.564176e+07  3.243456e+07  2.719646e+07  2.626552e+07   \n",
       "\n",
       "       2021/Ago     2021/Set         Total  \n",
       "22  74954589.62  25200345.68  1.361334e+10  \n",
       "23  11302985.98   2445267.12  2.516383e+09  \n",
       "24  19849249.43   7325067.61  2.386584e+09  \n",
       "25  44939821.34  18860370.17  5.380179e+09  \n",
       "26  22156437.60  13173812.37  2.778457e+09  \n",
       "\n",
       "[5 rows x 293 columns]"
      ]
     },
     "execution_count": 4,
     "metadata": {},
     "output_type": "execute_result"
    }
   ],
   "source": [
    "dados.tail()"
   ]
  },
  {
   "cell_type": "code",
   "execution_count": 5,
   "id": "e718bc3b",
   "metadata": {},
   "outputs": [
    {
     "data": {
      "text/plain": [
       "2007/Ago    3.049528e+05\n",
       "2007/Set    7.881453e+05\n",
       "2007/Out    2.440163e+06\n",
       "2007/Nov    5.517354e+06\n",
       "2007/Dez    1.233716e+07\n",
       "                ...     \n",
       "2021/Mai    8.727186e+07\n",
       "2021/Jun    7.759041e+07\n",
       "2021/Jul    6.084629e+07\n",
       "2021/Ago    4.388572e+07\n",
       "Total       6.852321e+09\n",
       "Length: 170, dtype: float64"
      ]
     },
     "execution_count": 5,
     "metadata": {},
     "output_type": "execute_result"
    }
   ],
   "source": [
    "dados.mean(numeric_only=True)"
   ]
  },
  {
   "cell_type": "code",
   "execution_count": 6,
   "id": "342e4992",
   "metadata": {},
   "outputs": [
    {
     "name": "stdout",
     "output_type": "stream",
     "text": [
      "<class 'pandas.core.frame.DataFrame'>\n",
      "RangeIndex: 27 entries, 0 to 26\n",
      "Columns: 293 entries, Unidade da Federação to Total\n",
      "dtypes: float64(170), object(123)\n",
      "memory usage: 61.9+ KB\n"
     ]
    }
   ],
   "source": [
    "dados.info()"
   ]
  },
  {
   "cell_type": "code",
   "execution_count": 7,
   "id": "6e306651",
   "metadata": {},
   "outputs": [],
   "source": [
    "pd.options.display.float_format = \"{:.2f}\".format"
   ]
  },
  {
   "cell_type": "code",
   "execution_count": 8,
   "id": "d11a8dd0",
   "metadata": {},
   "outputs": [
    {
     "data": {
      "text/plain": [
       "2007/Ago       304952.77\n",
       "2007/Set       788145.26\n",
       "2007/Out      2440162.96\n",
       "2007/Nov      5517354.05\n",
       "2007/Dez     12337159.42\n",
       "                ...     \n",
       "2021/Mai     87271862.20\n",
       "2021/Jun     77590406.47\n",
       "2021/Jul     60846287.01\n",
       "2021/Ago     43885716.30\n",
       "Total      6852320913.49\n",
       "Length: 170, dtype: float64"
      ]
     },
     "execution_count": 8,
     "metadata": {},
     "output_type": "execute_result"
    }
   ],
   "source": [
    "dados.mean(numeric_only=True)"
   ]
  },
  {
   "cell_type": "code",
   "execution_count": 9,
   "id": "7b3db17e",
   "metadata": {},
   "outputs": [
    {
     "data": {
      "text/plain": [
       "26645398.35703704"
      ]
     },
     "execution_count": 9,
     "metadata": {},
     "output_type": "execute_result"
    }
   ],
   "source": [
    "dados[\"2008/Ago\"].mean()"
   ]
  },
  {
   "cell_type": "code",
   "execution_count": 10,
   "id": "f05ff01a",
   "metadata": {},
   "outputs": [
    {
     "data": {
      "text/plain": [
       "<Axes: xlabel='Unidade da Federação'>"
      ]
     },
     "execution_count": 10,
     "metadata": {},
     "output_type": "execute_result"
    },
    {
     "data": {
      "image/png": "[encoded data removed]",
      "text/plain": [
       "<Figure size 640x480 with 1 Axes>"
      ]
     },
     "metadata": {},
     "output_type": "display_data"
    }
   ],
   "source": [
    "dados.plot(x=\"Unidade da Federação\", y=\"2008/Ago\")"
   ]
  },
  {
   "cell_type": "code",
   "execution_count": null,
   "id": "3d67017b",
   "metadata": {},
   "outputs": [
    {
     "data": {
      "text/plain": [
       "<function matplotlib.pyplot.show(close=None, block=None)>"
      ]
     },
     "execution_count": 11,
     "metadata": {},
     "output_type": "execute_result"
    }
   ],
   "source": [
    "import matplotlib.pyplot as plt\n",
    "import matplotlib.ticker as ticker\n",
    "\n",
    "axis = dados.plot(x=\"Unidade da Federação\", y=\"2008/Ago\", kind=\"bar\", figsize=(9,6))\n",
    "axis.yaxis.set_major_formatter(ticker.StrMethodFormatter(\"x{x:,.2f}\"))\n",
    "\n",
    "plt.title(\"Valor por unidade da federação\")\n",
    "\n",
    "plt.show"
   ]
  },
  {
   "cell_type": "code",
   "execution_count": null,
   "id": "c6bad2ab",
   "metadata": {},
   "outputs": [],
   "source": [
    "dados[[\"2008/Ago\", \"2008/Set\"]].head()"
   ]
  },
  {
   "cell_type": "code",
   "execution_count": null,
   "id": "06290909",
   "metadata": {},
   "outputs": [],
   "source": [
    "dados.columns"
   ]
  },
  {
   "cell_type": "code",
   "execution_count": null,
   "id": "2bac8dcb",
   "metadata": {},
   "outputs": [],
   "source": [
    "dados.mean(numeric_only=True)"
   ]
  },
  {
   "cell_type": "code",
   "execution_count": null,
   "id": "f3e704ca",
   "metadata": {},
   "outputs": [],
   "source": [
    "# Obtendo os tipos das colunas\n",
    "tipos_colunas = dados.dtypes\n",
    "\n",
    "print(tipos_colunas)"
   ]
  },
  {
   "cell_type": "markdown",
   "id": "0df836db",
   "metadata": {},
   "source": [
    "Podemos observar nesse dataframe, que o tipo das colunas que possuem valores vazios foram classificados como object. Ao chamar a função .mean(), está irá calcular amenas a media das colunas numericas"
   ]
  },
  {
   "cell_type": "code",
   "execution_count": null,
   "id": "1d52fa4c",
   "metadata": {},
   "outputs": [],
   "source": [
    "colunas_usaveis = dados.mean(numeric_only=True).index.tolist()\n",
    "colunas_usaveis\n",
    "colunas_usaveis.insert(0, \"Unidade da Federação\")\n",
    "colunas_usaveis[:5]"
   ]
  },
  {
   "cell_type": "code",
   "execution_count": null,
   "id": "59ff9bbc",
   "metadata": {},
   "outputs": [],
   "source": [
    "dados_usaveis = dados[colunas_usaveis]\n",
    "dados_usaveis.head()"
   ]
  },
  {
   "cell_type": "code",
   "execution_count": null,
   "id": "31422695",
   "metadata": {},
   "outputs": [],
   "source": [
    "dados_usaveis = dados_usaveis.set_index(\"Unidade da Federação\")\n",
    "dados_usaveis.head()"
   ]
  },
  {
   "cell_type": "code",
   "execution_count": null,
   "id": "b619d58c",
   "metadata": {},
   "outputs": [],
   "source": [
    "dados_usaveis[\"2019/Ago\"].head()"
   ]
  },
  {
   "cell_type": "code",
   "execution_count": null,
   "id": "7117c5f4",
   "metadata": {},
   "outputs": [],
   "source": [
    "dados_usaveis.loc[\"12 Acre\"]"
   ]
  },
  {
   "cell_type": "code",
   "execution_count": null,
   "id": "c9b8e426",
   "metadata": {},
   "outputs": [],
   "source": [
    "dados_usaveis.iloc[1]"
   ]
  },
  {
   "cell_type": "code",
   "execution_count": null,
   "id": "cad823ef",
   "metadata": {},
   "outputs": [],
   "source": [
    "dados_usaveis.plot(figsize=(12,6))"
   ]
  },
  {
   "cell_type": "code",
   "execution_count": null,
   "id": "ba236a58",
   "metadata": {},
   "outputs": [],
   "source": [
    "dados_usaveis.T.head()"
   ]
  },
  {
   "cell_type": "code",
   "execution_count": null,
   "id": "a48d063a",
   "metadata": {},
   "outputs": [],
   "source": [
    "dados_usaveis.T.plot(figsize=(12,6))"
   ]
  },
  {
   "cell_type": "code",
   "execution_count": null,
   "id": "50bef263",
   "metadata": {},
   "outputs": [],
   "source": [
    "dados_usaveis.T.tail()"
   ]
  },
  {
   "cell_type": "code",
   "execution_count": null,
   "id": "80047222",
   "metadata": {},
   "outputs": [],
   "source": [
    "dados_usaveis = dados_usaveis.drop(\"Total\", axis=1)\n",
    "dados_usaveis.head()"
   ]
  },
  {
   "cell_type": "code",
   "execution_count": null,
   "id": "490f53f3",
   "metadata": {},
   "outputs": [],
   "source": [
    "dados_usaveis.T.plot(figsize=(12,6))"
   ]
  },
  {
   "cell_type": "code",
   "execution_count": null,
   "id": "eac2b07e",
   "metadata": {},
   "outputs": [],
   "source": []
  }
 ],
 "metadata": {
  "kernelspec": {
   "display_name": "Python 3 (ipykernel)",
   "language": "python",
   "name": "python3"
  },
  "language_info": {
   "codemirror_mode": {
    "name": "ipython",
    "version": 3
   },
   "file_extension": ".py",
   "mimetype": "text/x-python",
   "name": "python",
   "nbconvert_exporter": "python",
   "pygments_lexer": "ipython3",
   "version": "3.11.4"
  }
 },
 "nbformat": 4,
 "nbformat_minor": 5
}
